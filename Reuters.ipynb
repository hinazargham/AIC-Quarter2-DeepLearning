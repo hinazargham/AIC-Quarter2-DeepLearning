{
  "nbformat": 4,
  "nbformat_minor": 0,
  "metadata": {
    "colab": {
      "name": "Reuters.ipynb",
      "provenance": [],
      "collapsed_sections": [
        "JrQy9DHGZZgg",
        "cuj893Qs9dGH"
      ],
      "toc_visible": true,
      "authorship_tag": "ABX9TyNRxgBOBkWtW5dVEvaNN42p"
    },
    "kernelspec": {
      "name": "python3",
      "display_name": "Python 3"
    },
    "language_info": {
      "name": "python"
    }
  },
  "cells": [
    {
      "cell_type": "markdown",
      "metadata": {
        "id": "sM5FfgmxwkDW"
      },
      "source": [
        "# **Classifying newswires: A multiclass classification example**"
      ]
    },
    {
      "cell_type": "markdown",
      "metadata": {
        "id": "ZYWelAkmYhPR"
      },
      "source": [
        "\n",
        "In the previous section, you saw how to classify vector inputs into two mutually exclusive classes using a densely connected neural network. But what happens when you have more than two classes? In this section, you’ll build a network to classify Reuters newswires into 46 mutually exclusive topics. Because you have many classes, this problem is an instance of multiclass classification; and because each data point should be classified into only one category, the problem is more specifically an instance of single-label, multiclass classification. If each data point could belong to multiple categories (in this case, topics), you’d be facing a multilabel, multiclass classification problem."
      ]
    },
    {
      "cell_type": "markdown",
      "metadata": {
        "id": "L66YsC_7YlCb"
      },
      "source": [
        "## **Reuters newswires**"
      ]
    },
    {
      "cell_type": "markdown",
      "metadata": {
        "id": "pso0z9g_Yudw"
      },
      "source": [
        "You’ll work with the Reuters dataset, a set of short newswires and their topics, published\n",
        "by Reuters in 1986. It’s a simple, widely used toy dataset for text classification. There\n",
        "are 46 different topics; some topics are more represented than others, but each topic\n",
        "has at least 10 examples in the training set.\n",
        "Like IMDB and MNIST, the Reuters dataset comes packaged as part of Keras. Let’s\n",
        "take a look."
      ]
    },
    {
      "cell_type": "markdown",
      "metadata": {
        "id": "JrQy9DHGZZgg"
      },
      "source": [
        "### Loading Libraries"
      ]
    },
    {
      "cell_type": "code",
      "metadata": {
        "id": "yWatKz3JZ0JV"
      },
      "source": [
        "import tensorflow as tf\n",
        "from tensorflow.keras import models, layers, optimizers\n",
        "import numpy as np\n",
        "import matplotlib.pyplot as plt"
      ],
      "execution_count": null,
      "outputs": []
    },
    {
      "cell_type": "markdown",
      "metadata": {
        "id": "cuj893Qs9dGH"
      },
      "source": [
        "### Loading the Reuters dataset"
      ]
    },
    {
      "cell_type": "code",
      "metadata": {
        "colab": {
          "base_uri": "https://localhost:8080/"
        },
        "id": "JEyV22kz8_Be",
        "outputId": "85c7c605-49ab-4c84-ed69-de00bfec1339"
      },
      "source": [
        "from tensorflow.keras.datasets import reuters\n",
        "(train_data, train_labels), (test_data, test_labels) = reuters.load_data(num_words=10000)"
      ],
      "execution_count": null,
      "outputs": [
        {
          "output_type": "stream",
          "text": [
            "/usr/local/lib/python3.7/dist-packages/tensorflow/python/keras/datasets/reuters.py:148: VisibleDeprecationWarning: Creating an ndarray from ragged nested sequences (which is a list-or-tuple of lists-or-tuples-or ndarrays with different lengths or shapes) is deprecated. If you meant to do this, you must specify 'dtype=object' when creating the ndarray\n",
            "  x_train, y_train = np.array(xs[:idx]), np.array(labels[:idx])\n",
            "/usr/local/lib/python3.7/dist-packages/tensorflow/python/keras/datasets/reuters.py:149: VisibleDeprecationWarning: Creating an ndarray from ragged nested sequences (which is a list-or-tuple of lists-or-tuples-or ndarrays with different lengths or shapes) is deprecated. If you meant to do this, you must specify 'dtype=object' when creating the ndarray\n",
            "  x_test, y_test = np.array(xs[idx:]), np.array(labels[idx:])\n"
          ],
          "name": "stderr"
        }
      ]
    },
    {
      "cell_type": "markdown",
      "metadata": {
        "id": "jwIPsMMUXJM7"
      },
      "source": [
        "As with the IMDB dataset, the argument num_words=10000 restricts the data to the 10,000 most frequently occurring words found in the data.\n",
        "You have 8,982 training examples and 2,246 test examples:"
      ]
    },
    {
      "cell_type": "code",
      "metadata": {
        "colab": {
          "base_uri": "https://localhost:8080/"
        },
        "id": "9imvPt989ynY",
        "outputId": "b32134e2-30a3-4115-d9d3-5a359af050fc"
      },
      "source": [
        "display(len(train_data))\n",
        "display(len(train_labels))"
      ],
      "execution_count": null,
      "outputs": [
        {
          "output_type": "display_data",
          "data": {
            "text/plain": [
              "8982"
            ]
          },
          "metadata": {
            "tags": []
          }
        },
        {
          "output_type": "display_data",
          "data": {
            "text/plain": [
              "8982"
            ]
          },
          "metadata": {
            "tags": []
          }
        }
      ]
    },
    {
      "cell_type": "code",
      "metadata": {
        "colab": {
          "base_uri": "https://localhost:8080/"
        },
        "id": "N0NWRzdN98vf",
        "outputId": "4ff88aba-d63a-466e-8fd3-e3a61e6720c1"
      },
      "source": [
        "display(len(test_data))\n",
        "display(len(test_labels))"
      ],
      "execution_count": null,
      "outputs": [
        {
          "output_type": "display_data",
          "data": {
            "text/plain": [
              "2246"
            ]
          },
          "metadata": {
            "tags": []
          }
        },
        {
          "output_type": "display_data",
          "data": {
            "text/plain": [
              "2246"
            ]
          },
          "metadata": {
            "tags": []
          }
        }
      ]
    },
    {
      "cell_type": "markdown",
      "metadata": {
        "id": "HQ2cL1jJGTXx"
      },
      "source": [
        "As with the IMDB reviews, each example is a list of integers (word indices):"
      ]
    },
    {
      "cell_type": "code",
      "metadata": {
        "colab": {
          "base_uri": "https://localhost:8080/"
        },
        "id": "SYLEt7VJGHbP",
        "outputId": "3d00071b-ca4d-4da8-ee19-07a2cb3e7a1a"
      },
      "source": [
        "train_data[10]"
      ],
      "execution_count": null,
      "outputs": [
        {
          "output_type": "execute_result",
          "data": {
            "text/plain": [
              "[1,\n",
              " 245,\n",
              " 273,\n",
              " 207,\n",
              " 156,\n",
              " 53,\n",
              " 74,\n",
              " 160,\n",
              " 26,\n",
              " 14,\n",
              " 46,\n",
              " 296,\n",
              " 26,\n",
              " 39,\n",
              " 74,\n",
              " 2979,\n",
              " 3554,\n",
              " 14,\n",
              " 46,\n",
              " 4689,\n",
              " 4329,\n",
              " 86,\n",
              " 61,\n",
              " 3499,\n",
              " 4795,\n",
              " 14,\n",
              " 61,\n",
              " 451,\n",
              " 4329,\n",
              " 17,\n",
              " 12]"
            ]
          },
          "metadata": {
            "tags": []
          },
          "execution_count": 69
        }
      ]
    },
    {
      "cell_type": "markdown",
      "metadata": {
        "id": "hqjnTY-_E00e"
      },
      "source": [
        "Here’s how you can decode it back to words."
      ]
    },
    {
      "cell_type": "markdown",
      "metadata": {
        "id": "-nETQS_mGa41"
      },
      "source": [
        "### Decoding newswires back to text"
      ]
    },
    {
      "cell_type": "code",
      "metadata": {
        "id": "C3uEx8G7GzoA"
      },
      "source": [
        "word_index = reuters.get_word_index()\n",
        "reverse_word_index = dict([(value, key) for (key, value) in word_index.items()])\n",
        "decoded_newswire = ' '.join([reverse_word_index.get(i - 3, '?') for i in\n",
        "train_data[0]])\n",
        "\n",
        "# Note that the indices are offset by 3 because 0, 1, and 2 are reserved indices for “padding,” “start of sequence,” and “unknown"
      ],
      "execution_count": null,
      "outputs": []
    },
    {
      "cell_type": "code",
      "metadata": {
        "colab": {
          "base_uri": "https://localhost:8080/"
        },
        "id": "Vks4mu64G-lT",
        "outputId": "db6a69dd-22f3-4e2c-b2ae-2fb3f7836d3b"
      },
      "source": [
        "print(decoded_newswire)"
      ],
      "execution_count": null,
      "outputs": [
        {
          "output_type": "stream",
          "text": [
            "? ? ? said as a result of its december acquisition of space co it expects earnings per share in 1987 of 1 15 to 1 30 dlrs per share up from 70 cts in 1986 the company said pretax net should rise to nine to 10 mln dlrs from six mln dlrs in 1986 and rental operation revenues to 19 to 22 mln dlrs from 12 5 mln dlrs it said cash flow per share this year should be 2 50 to three dlrs reuter 3\n"
          ],
          "name": "stdout"
        }
      ]
    },
    {
      "cell_type": "markdown",
      "metadata": {
        "id": "e6XqqujXPdFo"
      },
      "source": [
        "The label associated with an example is an integer between 0 and 45—a topic index:"
      ]
    },
    {
      "cell_type": "code",
      "metadata": {
        "id": "QWORXje0PmaD"
      },
      "source": [
        "train_data[10]"
      ],
      "execution_count": null,
      "outputs": []
    },
    {
      "cell_type": "code",
      "metadata": {
        "colab": {
          "base_uri": "https://localhost:8080/"
        },
        "id": "yvSKdhmpPcbC",
        "outputId": "969f32ec-c6c5-4587-abc0-b01475ac7678"
      },
      "source": [
        "train_labels[10]"
      ],
      "execution_count": null,
      "outputs": [
        {
          "output_type": "execute_result",
          "data": {
            "text/plain": [
              "3"
            ]
          },
          "metadata": {
            "tags": []
          },
          "execution_count": 50
        }
      ]
    },
    {
      "cell_type": "markdown",
      "metadata": {
        "id": "SSGXG8oYHJVm"
      },
      "source": [
        "### Preparing the data"
      ]
    },
    {
      "cell_type": "markdown",
      "metadata": {
        "id": "DiwQ-AhmRyVZ"
      },
      "source": [
        " ### Encoding the data"
      ]
    },
    {
      "cell_type": "code",
      "metadata": {
        "id": "u_ddSgb_Pyb6"
      },
      "source": [
        "import numpy as np\n",
        "def vectorize_sequences(sequences, dimension=10000):\n",
        "  results = np.zeros((len(sequences), dimension))\n",
        "  for i, sequence in enumerate(sequences):\n",
        "    results[i, sequence] = 1.\n",
        "    return results\n",
        "x_train = vectorize_sequences(train_data)\n",
        "x_test = vectorize_sequences(test_data)"
      ],
      "execution_count": null,
      "outputs": []
    },
    {
      "cell_type": "code",
      "metadata": {
        "colab": {
          "base_uri": "https://localhost:8080/"
        },
        "id": "RSNnZT7tP8hN",
        "outputId": "ad64d048-80bb-44cd-e057-50499d0daa86"
      },
      "source": [
        "train_data"
      ],
      "execution_count": null,
      "outputs": [
        {
          "output_type": "execute_result",
          "data": {
            "text/plain": [
              "array([list([1, 2, 2, 8, 43, 10, 447, 5, 25, 207, 270, 5, 3095, 111, 16, 369, 186, 90, 67, 7, 89, 5, 19, 102, 6, 19, 124, 15, 90, 67, 84, 22, 482, 26, 7, 48, 4, 49, 8, 864, 39, 209, 154, 6, 151, 6, 83, 11, 15, 22, 155, 11, 15, 7, 48, 9, 4579, 1005, 504, 6, 258, 6, 272, 11, 15, 22, 134, 44, 11, 15, 16, 8, 197, 1245, 90, 67, 52, 29, 209, 30, 32, 132, 6, 109, 15, 17, 12]),\n",
              "       list([1, 3267, 699, 3434, 2295, 56, 2, 7511, 9, 56, 3906, 1073, 81, 5, 1198, 57, 366, 737, 132, 20, 4093, 7, 2, 49, 2295, 2, 1037, 3267, 699, 3434, 8, 7, 10, 241, 16, 855, 129, 231, 783, 5, 4, 587, 2295, 2, 2, 775, 7, 48, 34, 191, 44, 35, 1795, 505, 17, 12]),\n",
              "       list([1, 53, 12, 284, 15, 14, 272, 26, 53, 959, 32, 818, 15, 14, 272, 26, 39, 684, 70, 11, 14, 12, 3886, 18, 180, 183, 187, 70, 11, 14, 102, 32, 11, 29, 53, 44, 704, 15, 14, 19, 758, 15, 53, 959, 47, 1013, 15, 14, 19, 132, 15, 39, 965, 32, 11, 14, 147, 72, 11, 180, 183, 187, 44, 11, 14, 102, 19, 11, 123, 186, 90, 67, 960, 4, 78, 13, 68, 467, 511, 110, 59, 89, 90, 67, 1390, 55, 2678, 92, 617, 80, 1274, 46, 905, 220, 13, 4, 346, 48, 235, 629, 5, 211, 5, 1118, 7, 2, 81, 5, 187, 11, 15, 9, 1709, 201, 5, 47, 3615, 18, 478, 4514, 5, 1118, 7, 232, 2, 71, 5, 160, 63, 11, 9, 2, 81, 5, 102, 59, 11, 17, 12]),\n",
              "       ...,\n",
              "       list([1, 141, 3890, 387, 81, 8, 16, 1629, 10, 340, 1241, 850, 31, 56, 3890, 691, 9, 1241, 71, 9, 5985, 2, 2, 699, 2, 2, 2, 699, 244, 5945, 4, 49, 8, 4, 656, 850, 33, 2993, 9, 2139, 340, 3371, 1493, 9, 2, 22, 2, 1094, 687, 83, 35, 15, 257, 6, 57, 9190, 7, 4, 5956, 654, 5, 2, 6191, 1371, 4, 49, 8, 16, 369, 646, 6, 1076, 7, 124, 407, 17, 12]),\n",
              "       list([1, 53, 46, 957, 26, 14, 74, 132, 26, 39, 46, 258, 3614, 18, 14, 74, 134, 5131, 18, 88, 2321, 72, 11, 14, 1842, 32, 11, 123, 383, 89, 39, 46, 235, 10, 864, 728, 5, 258, 44, 11, 15, 22, 753, 9, 42, 92, 131, 728, 5, 69, 312, 11, 15, 22, 222, 2, 3237, 383, 48, 39, 74, 235, 10, 864, 276, 5, 61, 32, 11, 15, 21, 4, 211, 5, 126, 1072, 42, 92, 131, 46, 19, 352, 11, 15, 22, 710, 220, 9, 42, 92, 131, 276, 5, 59, 61, 11, 15, 22, 10, 455, 7, 1172, 137, 336, 1325, 6, 1532, 142, 971, 6463, 43, 359, 5, 4, 326, 753, 364, 17, 12]),\n",
              "       list([1, 227, 2406, 91, 2, 125, 2855, 21, 4, 3976, 76, 7, 4, 757, 481, 3976, 790, 5259, 5654, 9, 111, 149, 8, 7, 10, 76, 223, 51, 4, 417, 8, 1047, 91, 6917, 1688, 340, 7, 194, 9411, 6, 1894, 21, 127, 2151, 2394, 1456, 6, 3034, 4, 329, 433, 7, 65, 87, 1127, 10, 8219, 1475, 290, 9, 21, 567, 16, 1926, 24, 4, 76, 209, 30, 4033, 6655, 5654, 8, 4, 60, 8, 4, 966, 308, 40, 2575, 129, 2, 295, 277, 1071, 9, 24, 286, 2114, 234, 222, 9, 4, 906, 3994, 8519, 114, 5758, 1752, 7, 4, 113, 17, 12])],\n",
              "      dtype=object)"
            ]
          },
          "metadata": {
            "tags": []
          },
          "execution_count": 52
        }
      ]
    },
    {
      "cell_type": "markdown",
      "metadata": {
        "id": "0zoWjJ4OUJs-"
      },
      "source": [
        "### Change label with one-hot-encode"
      ]
    },
    {
      "cell_type": "markdown",
      "metadata": {
        "id": "C_m3ui09QYWD"
      },
      "source": [
        "To vectorize the labels, there are two possibilities: you can cast the label list as an integer\n",
        "tensor, or you can use one-hot encoding. One-hot encoding is a widely used format\n",
        "for categorical data, also called categorical encoding. In this case, one-hot encoding of\n",
        "the labels consists of embedding each label as an all-zero vector with a 1 in the place of\n",
        "the label index. Here’s an example:"
      ]
    },
    {
      "cell_type": "code",
      "metadata": {
        "id": "4zcgvppbQinq"
      },
      "source": [
        "def to_one_hot(labels, dimension=46):\n",
        "  results = np.zeros((len(labels), dimension))\n",
        "  for i, label in enumerate(labels):\n",
        "    results[i, label] = 1.\n",
        "    return results\n",
        "one_hot_train_labels = to_one_hot(train_labels) # Vectorized training labels\n",
        "one_hot_test_labels = to_one_hot(test_labels)  # Vectorized testing labels"
      ],
      "execution_count": null,
      "outputs": []
    },
    {
      "cell_type": "markdown",
      "metadata": {
        "id": "7qEIJAImQ6hy"
      },
      "source": [
        "But there is a built-in way to do this in Keras, which you’ve already seen in action\n",
        "in the MNIST example"
      ]
    },
    {
      "cell_type": "code",
      "metadata": {
        "id": "WVwarsV0SPb2"
      },
      "source": [
        "from keras.utils.np_utils import to_categorical\n",
        "one_hot_train_labels = to_categorical(train_labels)\n",
        "one_hot_test_labels = to_categorical(test_labels)"
      ],
      "execution_count": null,
      "outputs": []
    },
    {
      "cell_type": "markdown",
      "metadata": {
        "id": "jCWa1S29SYBo"
      },
      "source": [
        "### Building your network\n",
        "\n",
        "This topic-classification problem looks similar to the previous movie-review classification\n",
        "problem: in both cases, you’re trying to classify short snippets of text. But there is\n",
        "a new constraint here: the number of output classes has gone from 2 to 46. The\n",
        "dimensionality of the output space is much larger.\n",
        "In a stack of Dense layers like that you’ve been using, each layer can only access information\n",
        "present in the output of the previous layer. "
      ]
    },
    {
      "cell_type": "markdown",
      "metadata": {
        "id": "3zvnJzqWSyMx"
      },
      "source": [
        "In a stack of Dense layers like that you’ve been using, each layer can only access information\n",
        "present in the output of the previous layer. If one layer drops some information relevant to the classification problem, this information can never be recovered by later\n",
        "layers: each layer can potentially become an information bottleneck. \n",
        "\n",
        "In the previous\n",
        "example, you used 16-dimensional intermediate layers, but a 16-dimensional space may\n",
        "be too limited to learn to separate 46 different classes: such small layers may act as information\n",
        "bottlenecks, permanently dropping relevant information.\n",
        "For this reason you’ll use larger layers. \n",
        "\n",
        "Let’s go with 64 units."
      ]
    },
    {
      "cell_type": "markdown",
      "metadata": {
        "id": "sRNlzLIXYcdg"
      },
      "source": [
        "### Model Definition"
      ]
    },
    {
      "cell_type": "code",
      "metadata": {
        "id": "RrfpWjvISjVj"
      },
      "source": [
        "\n",
        "model = models.Sequential()\n",
        "model.add(layers.Dense(64, activation='relu', input_shape=(10000,)))\n",
        "model.add(layers.Dense(64, activation='relu'))\n",
        "model.add(layers.Dense(46, activation='softmax'))"
      ],
      "execution_count": null,
      "outputs": []
    },
    {
      "cell_type": "markdown",
      "metadata": {
        "id": "Xx1qiBQVTHkH"
      },
      "source": [
        "There are two other things you should note about this architecture:\n",
        "\n",
        "1. You end the network with a Dense layer of size 46. This means for each input\n",
        "sample, the network will output a 46-dimensional vector. Each entry in this vector\n",
        "(each dimension) will encode a different output class.\n",
        "\n",
        "2. The last layer uses a softmax activation. You saw this pattern in the MNIST\n",
        "example. It means the network will output a probability distribution over the 46\n",
        "different output classes—for every input sample, the network will produce a 46-\n",
        "dimensional output vector, where output[i] is the probability that the sample\n",
        "belongs to class i. The 46 scores will sum to 1.\n",
        "The best loss function to use in this case is categorical_crossentropy. It measures\n",
        "the distance between two probability distributions: here, between the probability distribution\n",
        "output by the network and the true distribution of the labels. By minimizing\n",
        "the distance between these two distributions, you train the network to output something\n",
        "as close as possible to the true labels."
      ]
    },
    {
      "cell_type": "markdown",
      "metadata": {
        "id": "jS8pqr6kZKcL"
      },
      "source": [
        "### Compiling the model"
      ]
    },
    {
      "cell_type": "code",
      "metadata": {
        "id": "Hli_fM8JTNLZ"
      },
      "source": [
        "model.compile(optimizer='rmsprop', loss='categorical_crossentropy', metrics=['accuracy'])"
      ],
      "execution_count": null,
      "outputs": []
    },
    {
      "cell_type": "markdown",
      "metadata": {
        "id": "IW9rNf2WZXgs"
      },
      "source": [
        "### Validating your approach\n",
        "Let’s set apart 1,000 samples in the training data to use as a validation set"
      ]
    },
    {
      "cell_type": "code",
      "metadata": {
        "id": "n9E2EGgjTeNb"
      },
      "source": [
        "x_val = x_train[:1000]\n",
        "partial_x_train = x_train[1000:]\n",
        "\n",
        "y_val = one_hot_train_labels[:1000]\n",
        "partial_y_train = one_hot_train_labels[1000:]"
      ],
      "execution_count": null,
      "outputs": []
    },
    {
      "cell_type": "markdown",
      "metadata": {
        "id": "E2Fd6DkEa0ys"
      },
      "source": [
        "### Training the model\n",
        "Now, let’s train the network for 20 epochs."
      ]
    },
    {
      "cell_type": "code",
      "metadata": {
        "colab": {
          "base_uri": "https://localhost:8080/"
        },
        "id": "Mc33kNczTy1T",
        "outputId": "0bea106d-f481-4217-e775-17203bb3ea8b"
      },
      "source": [
        "history = model.fit(partial_x_train, partial_y_train, epochs=20, batch_size=512, validation_data=(x_val, y_val))"
      ],
      "execution_count": null,
      "outputs": [
        {
          "output_type": "stream",
          "text": [
            "Epoch 1/20\n",
            "16/16 [==============================] - 2s 74ms/step - loss: 3.8186 - accuracy: 0.0828 - val_loss: 3.7979 - val_accuracy: 0.0590\n",
            "Epoch 2/20\n",
            "16/16 [==============================] - 1s 46ms/step - loss: 3.7928 - accuracy: 0.0788 - val_loss: 3.7770 - val_accuracy: 0.0590\n",
            "Epoch 3/20\n",
            "16/16 [==============================] - 1s 47ms/step - loss: 3.7723 - accuracy: 0.1621 - val_loss: 3.7570 - val_accuracy: 0.0590\n",
            "Epoch 4/20\n",
            "16/16 [==============================] - 1s 46ms/step - loss: 3.7522 - accuracy: 0.1318 - val_loss: 3.7372 - val_accuracy: 0.3530\n",
            "Epoch 5/20\n",
            "16/16 [==============================] - 1s 47ms/step - loss: 3.7322 - accuracy: 0.3480 - val_loss: 3.7177 - val_accuracy: 0.3530\n",
            "Epoch 6/20\n",
            "16/16 [==============================] - 1s 47ms/step - loss: 3.7138 - accuracy: 0.3537 - val_loss: 3.6983 - val_accuracy: 0.3530\n",
            "Epoch 7/20\n",
            "16/16 [==============================] - 1s 46ms/step - loss: 3.6920 - accuracy: 0.3510 - val_loss: 3.6791 - val_accuracy: 0.3530\n",
            "Epoch 8/20\n",
            "16/16 [==============================] - 1s 46ms/step - loss: 3.6734 - accuracy: 0.3507 - val_loss: 3.6600 - val_accuracy: 0.3530\n",
            "Epoch 9/20\n",
            "16/16 [==============================] - 1s 46ms/step - loss: 3.6560 - accuracy: 0.3458 - val_loss: 3.6409 - val_accuracy: 0.3530\n",
            "Epoch 10/20\n",
            "16/16 [==============================] - 1s 46ms/step - loss: 3.6350 - accuracy: 0.3471 - val_loss: 3.6221 - val_accuracy: 0.3530\n",
            "Epoch 11/20\n",
            "16/16 [==============================] - 1s 46ms/step - loss: 3.6186 - accuracy: 0.3486 - val_loss: 3.6034 - val_accuracy: 0.3530\n",
            "Epoch 12/20\n",
            "16/16 [==============================] - 1s 47ms/step - loss: 3.5982 - accuracy: 0.3484 - val_loss: 3.5848 - val_accuracy: 0.3530\n",
            "Epoch 13/20\n",
            "16/16 [==============================] - 1s 47ms/step - loss: 3.5772 - accuracy: 0.3487 - val_loss: 3.5665 - val_accuracy: 0.3530\n",
            "Epoch 14/20\n",
            "16/16 [==============================] - 1s 47ms/step - loss: 3.5629 - accuracy: 0.3458 - val_loss: 3.5482 - val_accuracy: 0.3530\n",
            "Epoch 15/20\n",
            "16/16 [==============================] - 1s 48ms/step - loss: 3.5415 - accuracy: 0.3540 - val_loss: 3.5300 - val_accuracy: 0.3530\n",
            "Epoch 16/20\n",
            "16/16 [==============================] - 1s 47ms/step - loss: 3.5251 - accuracy: 0.3467 - val_loss: 3.5120 - val_accuracy: 0.3530\n",
            "Epoch 17/20\n",
            "16/16 [==============================] - 1s 45ms/step - loss: 3.5069 - accuracy: 0.3596 - val_loss: 3.4943 - val_accuracy: 0.3540\n",
            "Epoch 18/20\n",
            "16/16 [==============================] - 1s 46ms/step - loss: 3.4886 - accuracy: 0.3497 - val_loss: 3.4766 - val_accuracy: 0.3540\n",
            "Epoch 19/20\n",
            "16/16 [==============================] - 1s 47ms/step - loss: 3.4670 - accuracy: 0.3588 - val_loss: 3.4592 - val_accuracy: 0.3540\n",
            "Epoch 20/20\n",
            "16/16 [==============================] - 1s 47ms/step - loss: 3.4515 - accuracy: 0.3515 - val_loss: 3.4418 - val_accuracy: 0.3540\n"
          ],
          "name": "stdout"
        }
      ]
    },
    {
      "cell_type": "code",
      "metadata": {
        "colab": {
          "base_uri": "https://localhost:8080/"
        },
        "id": "prfYJNvf4nEF",
        "outputId": "e6bc0be1-0fbf-4284-b057-e04a43a8b732"
      },
      "source": [
        "history"
      ],
      "execution_count": null,
      "outputs": [
        {
          "output_type": "execute_result",
          "data": {
            "text/plain": [
              "<tensorflow.python.keras.callbacks.History at 0x7fd9e6675710>"
            ]
          },
          "metadata": {
            "tags": []
          },
          "execution_count": 75
        }
      ]
    },
    {
      "cell_type": "code",
      "metadata": {
        "colab": {
          "base_uri": "https://localhost:8080/"
        },
        "id": "ETN2WlzfT3xK",
        "outputId": "3763d48c-ea24-4299-ad4d-715e57d0b7e3"
      },
      "source": [
        "history.history.keys()"
      ],
      "execution_count": null,
      "outputs": [
        {
          "output_type": "execute_result",
          "data": {
            "text/plain": [
              "dict_keys(['loss', 'accuracy', 'val_loss', 'val_accuracy'])"
            ]
          },
          "metadata": {
            "tags": []
          },
          "execution_count": 76
        }
      ]
    },
    {
      "cell_type": "markdown",
      "metadata": {
        "id": "oWtjiwH-bPHc"
      },
      "source": [
        "### Plotting the training and validation loss"
      ]
    },
    {
      "cell_type": "code",
      "metadata": {
        "colab": {
          "base_uri": "https://localhost:8080/",
          "height": 295
        },
        "id": "8wpE4_BpUAZh",
        "outputId": "e8612234-a55e-497f-fd50-cb1555f1bbda"
      },
      "source": [
        "loss = history.history['loss']\n",
        "val_loss = history.history['val_loss']\n",
        "epochs = range(1, len(loss) + 1)\n",
        "plt.plot(epochs, loss, 'bo', label='Training loss')\n",
        "plt.plot(epochs, val_loss, 'r', label='Validation loss')\n",
        "plt.title('Training and validation loss')\n",
        "plt.xlabel('Epochs')\n",
        "plt.ylabel('Loss')\n",
        "plt.legend()\n",
        "plt.show()"
      ],
      "execution_count": null,
      "outputs": [
        {
          "output_type": "display_data",
          "data": {
            "image/png": "[encoded data removed]",
            "text/plain": [
              "<Figure size 432x288 with 1 Axes>"
            ]
          },
          "metadata": {
            "tags": [],
            "needs_background": "light"
          }
        }
      ]
    },
    {
      "cell_type": "markdown",
      "metadata": {
        "id": "7Tp5SEH5byL8"
      },
      "source": [
        "### Plotting the training and validation accuracy"
      ]
    },
    {
      "cell_type": "code",
      "metadata": {
        "colab": {
          "base_uri": "https://localhost:8080/",
          "height": 295
        },
        "id": "Yswo7tARUHzv",
        "outputId": "a978f2a6-1085-486e-bf89-216d9f0deb09"
      },
      "source": [
        "plt.clf() # clears the figure\n",
        "acc = history.history['accuracy']\n",
        "val_acc = history.history['val_accuracy']\n",
        "plt.plot(epochs, acc, 'bo', label='Training acc')\n",
        "plt.plot(epochs, val_acc, 'r', label='Validation acc')\n",
        "plt.title('Training and validation accuracy')\n",
        "plt.xlabel('Epochs')\n",
        "plt.ylabel('Loss')\n",
        "plt.legend()\n",
        "plt.show()"
      ],
      "execution_count": null,
      "outputs": [
        {
          "output_type": "display_data",
          "data": {
            "image/png": "[encoded data removed]",
            "text/plain": [
              "<Figure size 432x288 with 1 Axes>"
            ]
          },
          "metadata": {
            "tags": [],
            "needs_background": "light"
          }
        }
      ]
    },
    {
      "cell_type": "markdown",
      "metadata": {
        "id": "VCVEyrPWUhI4"
      },
      "source": [
        "The network begins to overfit after nine epochs. Let’s train a new network from\n",
        "scratch for nine epochs and then evaluate it on the test set."
      ]
    },
    {
      "cell_type": "markdown",
      "metadata": {
        "id": "9y67iSUqcJZW"
      },
      "source": [
        "### Retraining a model from scratch"
      ]
    },
    {
      "cell_type": "code",
      "metadata": {
        "colab": {
          "base_uri": "https://localhost:8080/"
        },
        "id": "pwNka-S5Ujqn",
        "outputId": "f66a7898-0830-47db-c165-df8abeb37b48"
      },
      "source": [
        "model = models.Sequential()\n",
        "model.add(layers.Dense(64, activation='relu', input_shape=(10000,)))\n",
        "model.add(layers.Dense(64, activation='relu'))\n",
        "model.add(layers.Dense(46, activation='softmax'))\n",
        "model.compile(optimizer='rmsprop',\n",
        "loss='categorical_crossentropy',\n",
        "metrics=['accuracy'])\n",
        "model.fit(partial_x_train,\n",
        "partial_y_train,\n",
        "epochs=9,\n",
        "batch_size=512,\n",
        "validation_data=(x_val, y_val))\n",
        "results = model.evaluate(x_test, one_hot_test_labels)"
      ],
      "execution_count": null,
      "outputs": [
        {
          "output_type": "stream",
          "text": [
            "Epoch 1/9\n",
            "16/16 [==============================] - 1s 59ms/step - loss: 3.8185 - accuracy: 0.1242 - val_loss: 3.7980 - val_accuracy: 0.0440\n",
            "Epoch 2/9\n",
            "16/16 [==============================] - 1s 47ms/step - loss: 3.7926 - accuracy: 0.1139 - val_loss: 3.7771 - val_accuracy: 0.3530\n",
            "Epoch 3/9\n",
            "16/16 [==============================] - 1s 49ms/step - loss: 3.7715 - accuracy: 0.3555 - val_loss: 3.7571 - val_accuracy: 0.3530\n",
            "Epoch 4/9\n",
            "16/16 [==============================] - 1s 48ms/step - loss: 3.7520 - accuracy: 0.3511 - val_loss: 3.7373 - val_accuracy: 0.3530\n",
            "Epoch 5/9\n",
            "16/16 [==============================] - 1s 48ms/step - loss: 3.7322 - accuracy: 0.3478 - val_loss: 3.7177 - val_accuracy: 0.3530\n",
            "Epoch 6/9\n",
            "16/16 [==============================] - 1s 48ms/step - loss: 3.7121 - accuracy: 0.3560 - val_loss: 3.6984 - val_accuracy: 0.3530\n",
            "Epoch 7/9\n",
            "16/16 [==============================] - 1s 47ms/step - loss: 3.6951 - accuracy: 0.3519 - val_loss: 3.6790 - val_accuracy: 0.3530\n",
            "Epoch 8/9\n",
            "16/16 [==============================] - 1s 48ms/step - loss: 3.6728 - accuracy: 0.3644 - val_loss: 3.6599 - val_accuracy: 0.3530\n",
            "Epoch 9/9\n",
            "16/16 [==============================] - 1s 47ms/step - loss: 3.6547 - accuracy: 0.3531 - val_loss: 3.6409 - val_accuracy: 0.3530\n",
            "71/71 [==============================] - 0s 3ms/step - loss: 3.6433 - accuracy: 0.3615\n"
          ],
          "name": "stdout"
        }
      ]
    },
    {
      "cell_type": "code",
      "metadata": {
        "colab": {
          "base_uri": "https://localhost:8080/"
        },
        "id": "SstXAg90U7tb",
        "outputId": "efcb661d-dab0-4db5-e24e-28d8fe326f7f"
      },
      "source": [
        "results"
      ],
      "execution_count": null,
      "outputs": [
        {
          "output_type": "execute_result",
          "data": {
            "text/plain": [
              "[3.64326548576355, 0.3615316152572632]"
            ]
          },
          "metadata": {
            "tags": []
          },
          "execution_count": 80
        }
      ]
    },
    {
      "cell_type": "markdown",
      "metadata": {
        "id": "yW-G6ywPVEhk"
      },
      "source": [
        "This approach reaches an accuracy of ~80%. With a balanced binary classification\n",
        "problem, the accuracy reached by a purely random classifier would be 50%. But in\n",
        "this case it’s closer to 19%, so the results seem pretty good, at least when compared to\n",
        "a random baseline:"
      ]
    },
    {
      "cell_type": "markdown",
      "metadata": {
        "id": "dFgTvkJcVQdD"
      },
      "source": [
        "\n",
        "\n",
        "```\n",
        ">>> import copy\n",
        ">>> test_labels_copy = copy.copy(test_labels)\n",
        ">>> np.random.shuffle(test_labels_copy)\n",
        ">>> hits_array = np.array(test_labels) == np.array(test_labels_copy)\n",
        ">>> float(np.sum(hits_array)) / len(test_labels)\n",
        "0.18655387355298308\n",
        "```\n",
        "\n"
      ]
    },
    {
      "cell_type": "markdown",
      "metadata": {
        "id": "0RY6f1D3dJuQ"
      },
      "source": [
        "### Generating predictions on new data"
      ]
    },
    {
      "cell_type": "markdown",
      "metadata": {
        "id": "10iWbsA3VdMR"
      },
      "source": [
        "You can verify that the predict method of the model instance returns a probability\n",
        "distribution over all 46 topics. Let’s generate topic predictions for all of the test data"
      ]
    },
    {
      "cell_type": "markdown",
      "metadata": {
        "id": "rKCfAW1cVnve"
      },
      "source": [
        "#### Generating predictions for new data"
      ]
    },
    {
      "cell_type": "code",
      "metadata": {
        "colab": {
          "base_uri": "https://localhost:8080/"
        },
        "id": "UlmRNpSfVh2a",
        "outputId": "7717df68-2f69-4900-b331-dcbfacdf7c65"
      },
      "source": [
        "predictions = model.predict(x_test)\n",
        "predictions"
      ],
      "execution_count": null,
      "outputs": [
        {
          "output_type": "execute_result",
          "data": {
            "text/plain": [
              "array([[0.02348575, 0.02698697, 0.02099276, ..., 0.02173574, 0.02330261,\n",
              "        0.01788807],\n",
              "       [0.02067538, 0.02761782, 0.02069566, ..., 0.02059569, 0.020576  ,\n",
              "        0.02057744],\n",
              "       [0.02067538, 0.02761782, 0.02069566, ..., 0.02059569, 0.020576  ,\n",
              "        0.02057744],\n",
              "       ...,\n",
              "       [0.02067538, 0.02761782, 0.02069566, ..., 0.02059569, 0.020576  ,\n",
              "        0.02057744],\n",
              "       [0.02067538, 0.02761782, 0.02069566, ..., 0.02059569, 0.020576  ,\n",
              "        0.02057744],\n",
              "       [0.02067538, 0.02761782, 0.02069566, ..., 0.02059569, 0.020576  ,\n",
              "        0.02057744]], dtype=float32)"
            ]
          },
          "metadata": {
            "tags": []
          },
          "execution_count": 81
        }
      ]
    },
    {
      "cell_type": "markdown",
      "metadata": {
        "id": "6j3TTIDPV0Xb"
      },
      "source": [
        "Each entry in predictions is a vector of length 46:"
      ]
    },
    {
      "cell_type": "code",
      "metadata": {
        "colab": {
          "base_uri": "https://localhost:8080/"
        },
        "id": "zqVui432Vt-u",
        "outputId": "d76c44eb-c54b-4dd5-ed9d-f7429ac27403"
      },
      "source": [
        "predictions[0].shape"
      ],
      "execution_count": null,
      "outputs": [
        {
          "output_type": "execute_result",
          "data": {
            "text/plain": [
              "(46,)"
            ]
          },
          "metadata": {
            "tags": []
          },
          "execution_count": 82
        }
      ]
    },
    {
      "cell_type": "markdown",
      "metadata": {
        "id": "2PomccldV3rD"
      },
      "source": [
        "The coefficients in this vector sum to 1:"
      ]
    },
    {
      "cell_type": "code",
      "metadata": {
        "colab": {
          "base_uri": "https://localhost:8080/"
        },
        "id": "M1xT3UTQV7rl",
        "outputId": "8b19f9b3-37e6-40e3-ac18-6dc9747386f4"
      },
      "source": [
        "np.sum(predictions[0])"
      ],
      "execution_count": null,
      "outputs": [
        {
          "output_type": "execute_result",
          "data": {
            "text/plain": [
              "0.99999994"
            ]
          },
          "metadata": {
            "tags": []
          },
          "execution_count": 83
        }
      ]
    },
    {
      "cell_type": "markdown",
      "metadata": {
        "id": "e11xD22CWEfm"
      },
      "source": [
        "The largest entry is the predicted class—the class with the highest probability:"
      ]
    },
    {
      "cell_type": "code",
      "metadata": {
        "colab": {
          "base_uri": "https://localhost:8080/"
        },
        "id": "Yh-5RnoHWDFD",
        "outputId": "8548b086-7244-47b9-beff-128346d74aa5"
      },
      "source": [
        "np.argmax(predictions[0])"
      ],
      "execution_count": null,
      "outputs": [
        {
          "output_type": "execute_result",
          "data": {
            "text/plain": [
              "16"
            ]
          },
          "metadata": {
            "tags": []
          },
          "execution_count": 84
        }
      ]
    },
    {
      "cell_type": "markdown",
      "metadata": {
        "id": "9FTn8rKQ9ttl"
      },
      "source": [
        "## A different way to handle the labels and the loss\n",
        "\n",
        "We mentioned earlier that another way to encode the labels would be to cast them as\n",
        "an integer tensor, like this:\n",
        "\n",
        "```\n",
        "y_train = np.array(train_labels)\n",
        "y_test = np.array(test_labels)\n",
        "```\n",
        "\n",
        "The only thing this approach would change is the choice of the loss function. The loss\n",
        "function categorical_crossentropy, expects the labels to follow\n",
        "a categorical encoding. With integer labels, you should use sparse_categorical_\n",
        "crossentropy:\n",
        "\n",
        "```\n",
        "model.compile(optimizer='rmsprop',\n",
        "loss='sparse_categorical_crossentropy',\n",
        "metrics=['acc'])\n",
        "```\n",
        "\n"
      ]
    },
    {
      "cell_type": "markdown",
      "metadata": {
        "id": "Ic7JA6WS-iTE"
      },
      "source": [
        "This new loss function is still mathematically the same as categorical_crossentropy;\n",
        "it just has a different interface."
      ]
    },
    {
      "cell_type": "markdown",
      "metadata": {
        "id": "sPeNRvTG-uZz"
      },
      "source": [
        "## The importance of having sufficiently large intermediate layers\n",
        "We mentioned earlier that because the final outputs are 46-dimensional, you should\n",
        "avoid intermediate layers with many fewer than 46 hidden units. Now let’s see what\n",
        "happens when you introduce an information bottleneck by having intermediate layers\n",
        "that are significantly less than 46-dimensional: for example, 4-dimensional."
      ]
    },
    {
      "cell_type": "code",
      "metadata": {
        "colab": {
          "base_uri": "https://localhost:8080/"
        },
        "id": "y_twHlOL-d-J",
        "outputId": "da0bac85-1462-46dd-cb93-289229927ebc"
      },
      "source": [
        "model = models.Sequential()\n",
        "model.add(layers.Dense(64, activation='relu', input_shape=(10000,)))\n",
        "model.add(layers.Dense(4, activation='relu'))\n",
        "model.add(layers.Dense(46, activation='softmax'))\n",
        "model.compile(optimizer='rmsprop',\n",
        "loss='categorical_crossentropy',\n",
        "metrics=['accuracy'])\n",
        "model.fit(partial_x_train,\n",
        "partial_y_train,\n",
        "epochs=20,\n",
        "batch_size=128,\n",
        "validation_data=(x_val, y_val))"
      ],
      "execution_count": null,
      "outputs": [
        {
          "output_type": "stream",
          "text": [
            "Epoch 1/20\n",
            "63/63 [==============================] - 2s 23ms/step - loss: 3.8015 - accuracy: 0.2571 - val_loss: 3.7416 - val_accuracy: 0.3540\n",
            "Epoch 2/20\n",
            "63/63 [==============================] - 1s 17ms/step - loss: 3.7231 - accuracy: 0.3421 - val_loss: 3.6680 - val_accuracy: 0.3540\n",
            "Epoch 3/20\n",
            "63/63 [==============================] - 1s 17ms/step - loss: 3.6481 - accuracy: 0.3539 - val_loss: 3.5963 - val_accuracy: 0.3540\n",
            "Epoch 4/20\n",
            "63/63 [==============================] - 1s 17ms/step - loss: 3.5798 - accuracy: 0.3491 - val_loss: 3.5267 - val_accuracy: 0.3540\n",
            "Epoch 5/20\n",
            "63/63 [==============================] - 1s 17ms/step - loss: 3.5106 - accuracy: 0.3571 - val_loss: 3.4593 - val_accuracy: 0.3540\n",
            "Epoch 6/20\n",
            "63/63 [==============================] - 1s 17ms/step - loss: 3.4431 - accuracy: 0.3585 - val_loss: 3.3940 - val_accuracy: 0.3540\n",
            "Epoch 7/20\n",
            "63/63 [==============================] - 1s 17ms/step - loss: 3.3801 - accuracy: 0.3539 - val_loss: 3.3307 - val_accuracy: 0.3540\n",
            "Epoch 8/20\n",
            "63/63 [==============================] - 1s 18ms/step - loss: 3.3126 - accuracy: 0.3476 - val_loss: 3.2697 - val_accuracy: 0.3540\n",
            "Epoch 9/20\n",
            "63/63 [==============================] - 1s 17ms/step - loss: 3.2561 - accuracy: 0.3536 - val_loss: 3.2111 - val_accuracy: 0.3540\n",
            "Epoch 10/20\n",
            "63/63 [==============================] - 1s 17ms/step - loss: 3.1994 - accuracy: 0.3561 - val_loss: 3.1542 - val_accuracy: 0.3540\n",
            "Epoch 11/20\n",
            "63/63 [==============================] - 1s 17ms/step - loss: 3.1383 - accuracy: 0.3473 - val_loss: 3.1000 - val_accuracy: 0.3540\n",
            "Epoch 12/20\n",
            "63/63 [==============================] - 1s 17ms/step - loss: 3.0948 - accuracy: 0.3502 - val_loss: 3.0472 - val_accuracy: 0.3540\n",
            "Epoch 13/20\n",
            "63/63 [==============================] - 1s 17ms/step - loss: 3.0403 - accuracy: 0.3490 - val_loss: 2.9965 - val_accuracy: 0.3540\n",
            "Epoch 14/20\n",
            "63/63 [==============================] - 1s 17ms/step - loss: 2.9762 - accuracy: 0.3562 - val_loss: 2.9483 - val_accuracy: 0.3540\n",
            "Epoch 15/20\n",
            "63/63 [==============================] - 1s 18ms/step - loss: 2.9437 - accuracy: 0.3541 - val_loss: 2.9017 - val_accuracy: 0.3540\n",
            "Epoch 16/20\n",
            "63/63 [==============================] - 1s 17ms/step - loss: 2.8975 - accuracy: 0.3477 - val_loss: 2.8570 - val_accuracy: 0.3540\n",
            "Epoch 17/20\n",
            "63/63 [==============================] - 1s 17ms/step - loss: 2.8432 - accuracy: 0.3539 - val_loss: 2.8148 - val_accuracy: 0.3540\n",
            "Epoch 18/20\n",
            "63/63 [==============================] - 1s 17ms/step - loss: 2.8191 - accuracy: 0.3448 - val_loss: 2.7743 - val_accuracy: 0.3540\n",
            "Epoch 19/20\n",
            "63/63 [==============================] - 1s 17ms/step - loss: 2.7655 - accuracy: 0.3540 - val_loss: 2.7361 - val_accuracy: 0.3540\n",
            "Epoch 20/20\n",
            "63/63 [==============================] - 1s 17ms/step - loss: 2.7291 - accuracy: 0.3543 - val_loss: 2.7004 - val_accuracy: 0.3540\n"
          ],
          "name": "stdout"
        },
        {
          "output_type": "execute_result",
          "data": {
            "text/plain": [
              "<tensorflow.python.keras.callbacks.History at 0x7fd9f2202a90>"
            ]
          },
          "metadata": {
            "tags": []
          },
          "execution_count": 85
        }
      ]
    },
    {
      "cell_type": "markdown",
      "metadata": {
        "id": "AuD_xKAJ-8h1"
      },
      "source": [
        "The network now peaks at ~71% validation accuracy, an 8% absolute drop. This drop\n",
        "is mostly due to the fact that you’re trying to compress a lot of information (enough\n",
        "information to recover the separation hyperplanes of 46 classes) into an intermediate\n",
        "space that is too low-dimensional. The network is able to cram most of the necessary\n",
        "information into these eight-dimensional representations, but not all of it."
      ]
    },
    {
      "cell_type": "markdown",
      "metadata": {
        "id": "z8nNGsbsFAzA"
      },
      "source": [
        "## Further experiments\n",
        "1. Try using larger or smaller layers: 32 units, 128 units, and so on.\n",
        "\n",
        "2. You used two hidden layers. Now try using a single hidden layer, or three hidden\n",
        "layers."
      ]
    },
    {
      "cell_type": "code",
      "metadata": {
        "colab": {
          "base_uri": "https://localhost:8080/"
        },
        "id": "tURfpJqEExTx",
        "outputId": "4e82d62e-3a89-4f1b-d383-510a845d3b80"
      },
      "source": [
        "model = models.Sequential()\n",
        "model.add(layers.Dense(64, activation='relu', input_shape=(10000,)))\n",
        "model.add(layers.Dense(32, activation='relu'))\n",
        "model.add(layers.Dense(46, activation='softmax'))\n",
        "model.compile(optimizer='rmsprop',\n",
        "loss='categorical_crossentropy',\n",
        "metrics=['accuracy'])\n",
        "model.fit(partial_x_train,\n",
        "partial_y_train,\n",
        "epochs=20,\n",
        "batch_size=128,\n",
        "validation_data=(x_val, y_val))"
      ],
      "execution_count": null,
      "outputs": [
        {
          "output_type": "stream",
          "text": [
            "Epoch 1/20\n",
            "63/63 [==============================] - 2s 21ms/step - loss: 3.8016 - accuracy: 0.1776 - val_loss: 3.7418 - val_accuracy: 0.2220\n",
            "Epoch 2/20\n",
            "63/63 [==============================] - 1s 17ms/step - loss: 3.7240 - accuracy: 0.2236 - val_loss: 3.6679 - val_accuracy: 0.2220\n",
            "Epoch 3/20\n",
            "63/63 [==============================] - 1s 17ms/step - loss: 3.6501 - accuracy: 0.2882 - val_loss: 3.5964 - val_accuracy: 0.3530\n",
            "Epoch 4/20\n",
            "63/63 [==============================] - 1s 17ms/step - loss: 3.5783 - accuracy: 0.3564 - val_loss: 3.5270 - val_accuracy: 0.3540\n",
            "Epoch 5/20\n",
            "63/63 [==============================] - 1s 17ms/step - loss: 3.5109 - accuracy: 0.3449 - val_loss: 3.4592 - val_accuracy: 0.3540\n",
            "Epoch 6/20\n",
            "63/63 [==============================] - 1s 17ms/step - loss: 3.4375 - accuracy: 0.3502 - val_loss: 3.3941 - val_accuracy: 0.3540\n",
            "Epoch 7/20\n",
            "63/63 [==============================] - 1s 17ms/step - loss: 3.3768 - accuracy: 0.3576 - val_loss: 3.3307 - val_accuracy: 0.3540\n",
            "Epoch 8/20\n",
            "63/63 [==============================] - 1s 17ms/step - loss: 3.3196 - accuracy: 0.3506 - val_loss: 3.2698 - val_accuracy: 0.3540\n",
            "Epoch 9/20\n",
            "63/63 [==============================] - 1s 17ms/step - loss: 3.2530 - accuracy: 0.3554 - val_loss: 3.2112 - val_accuracy: 0.3540\n",
            "Epoch 10/20\n",
            "63/63 [==============================] - 1s 17ms/step - loss: 3.1942 - accuracy: 0.3551 - val_loss: 3.1544 - val_accuracy: 0.3540\n",
            "Epoch 11/20\n",
            "63/63 [==============================] - 1s 18ms/step - loss: 3.1441 - accuracy: 0.3514 - val_loss: 3.1000 - val_accuracy: 0.3540\n",
            "Epoch 12/20\n",
            "63/63 [==============================] - 1s 17ms/step - loss: 3.0816 - accuracy: 0.3631 - val_loss: 3.0476 - val_accuracy: 0.3540\n",
            "Epoch 13/20\n",
            "63/63 [==============================] - 1s 17ms/step - loss: 3.0372 - accuracy: 0.3514 - val_loss: 2.9968 - val_accuracy: 0.3540\n",
            "Epoch 14/20\n",
            "63/63 [==============================] - 1s 17ms/step - loss: 2.9940 - accuracy: 0.3478 - val_loss: 2.9483 - val_accuracy: 0.3540\n",
            "Epoch 15/20\n",
            "63/63 [==============================] - 1s 17ms/step - loss: 2.9488 - accuracy: 0.3526 - val_loss: 2.9019 - val_accuracy: 0.3540\n",
            "Epoch 16/20\n",
            "63/63 [==============================] - 1s 17ms/step - loss: 2.9039 - accuracy: 0.3550 - val_loss: 2.8573 - val_accuracy: 0.3540\n",
            "Epoch 17/20\n",
            "63/63 [==============================] - 1s 17ms/step - loss: 2.8437 - accuracy: 0.3535 - val_loss: 2.8147 - val_accuracy: 0.3540\n",
            "Epoch 18/20\n",
            "63/63 [==============================] - 1s 17ms/step - loss: 2.8029 - accuracy: 0.3554 - val_loss: 2.7747 - val_accuracy: 0.3540\n",
            "Epoch 19/20\n",
            "63/63 [==============================] - 1s 17ms/step - loss: 2.7627 - accuracy: 0.3571 - val_loss: 2.7364 - val_accuracy: 0.3540\n",
            "Epoch 20/20\n",
            "63/63 [==============================] - 1s 18ms/step - loss: 2.7276 - accuracy: 0.3532 - val_loss: 2.7006 - val_accuracy: 0.3540\n"
          ],
          "name": "stdout"
        },
        {
          "output_type": "execute_result",
          "data": {
            "text/plain": [
              "<tensorflow.python.keras.callbacks.History at 0x7fd9f24b22d0>"
            ]
          },
          "metadata": {
            "tags": []
          },
          "execution_count": 86
        }
      ]
    },
    {
      "cell_type": "code",
      "metadata": {
        "colab": {
          "base_uri": "https://localhost:8080/"
        },
        "id": "XXrJg1SNFgGe",
        "outputId": "819c830b-d540-434e-f086-6fb6c469f330"
      },
      "source": [
        "model = models.Sequential()\n",
        "model.add(layers.Dense(64, activation='relu', input_shape=(10000,)))\n",
        "model.add(layers.Dense(128, activation='relu'))\n",
        "model.add(layers.Dense(46, activation='softmax'))\n",
        "model.compile(optimizer='rmsprop',\n",
        "loss='categorical_crossentropy',\n",
        "metrics=['accuracy'])\n",
        "model.fit(partial_x_train,\n",
        "partial_y_train,\n",
        "epochs=20,\n",
        "batch_size=128,\n",
        "validation_data=(x_val, y_val))"
      ],
      "execution_count": null,
      "outputs": [
        {
          "output_type": "stream",
          "text": [
            "Epoch 1/20\n",
            "63/63 [==============================] - 2s 22ms/step - loss: 3.8015 - accuracy: 0.1899 - val_loss: 3.7416 - val_accuracy: 0.2220\n",
            "Epoch 2/20\n",
            "63/63 [==============================] - 1s 18ms/step - loss: 3.7224 - accuracy: 0.2719 - val_loss: 3.6679 - val_accuracy: 0.2220\n",
            "Epoch 3/20\n",
            "63/63 [==============================] - 1s 18ms/step - loss: 3.6508 - accuracy: 0.2582 - val_loss: 3.5961 - val_accuracy: 0.2230\n",
            "Epoch 4/20\n",
            "63/63 [==============================] - 1s 19ms/step - loss: 3.5776 - accuracy: 0.2939 - val_loss: 3.5263 - val_accuracy: 0.3540\n",
            "Epoch 5/20\n",
            "63/63 [==============================] - 1s 19ms/step - loss: 3.5114 - accuracy: 0.3519 - val_loss: 3.4588 - val_accuracy: 0.3540\n",
            "Epoch 6/20\n",
            "63/63 [==============================] - 1s 18ms/step - loss: 3.4411 - accuracy: 0.3569 - val_loss: 3.3935 - val_accuracy: 0.3540\n",
            "Epoch 7/20\n",
            "63/63 [==============================] - 1s 18ms/step - loss: 3.3769 - accuracy: 0.3523 - val_loss: 3.3305 - val_accuracy: 0.3540\n",
            "Epoch 8/20\n",
            "63/63 [==============================] - 1s 18ms/step - loss: 3.3138 - accuracy: 0.3490 - val_loss: 3.2698 - val_accuracy: 0.3540\n",
            "Epoch 9/20\n",
            "63/63 [==============================] - 1s 18ms/step - loss: 3.2583 - accuracy: 0.3405 - val_loss: 3.2112 - val_accuracy: 0.3540\n",
            "Epoch 10/20\n",
            "63/63 [==============================] - 1s 18ms/step - loss: 3.1943 - accuracy: 0.3565 - val_loss: 3.1545 - val_accuracy: 0.3540\n",
            "Epoch 11/20\n",
            "63/63 [==============================] - 1s 18ms/step - loss: 3.1438 - accuracy: 0.3495 - val_loss: 3.0997 - val_accuracy: 0.3540\n",
            "Epoch 12/20\n",
            "63/63 [==============================] - 1s 17ms/step - loss: 3.0851 - accuracy: 0.3473 - val_loss: 3.0474 - val_accuracy: 0.3540\n",
            "Epoch 13/20\n",
            "63/63 [==============================] - 1s 18ms/step - loss: 3.0280 - accuracy: 0.3625 - val_loss: 2.9968 - val_accuracy: 0.3540\n",
            "Epoch 14/20\n",
            "63/63 [==============================] - 1s 17ms/step - loss: 2.9917 - accuracy: 0.3543 - val_loss: 2.9482 - val_accuracy: 0.3540\n",
            "Epoch 15/20\n",
            "63/63 [==============================] - 1s 17ms/step - loss: 2.9437 - accuracy: 0.3478 - val_loss: 2.9013 - val_accuracy: 0.3540\n",
            "Epoch 16/20\n",
            "63/63 [==============================] - 1s 18ms/step - loss: 2.8911 - accuracy: 0.3528 - val_loss: 2.8571 - val_accuracy: 0.3540\n",
            "Epoch 17/20\n",
            "63/63 [==============================] - 1s 17ms/step - loss: 2.8483 - accuracy: 0.3535 - val_loss: 2.8146 - val_accuracy: 0.3540\n",
            "Epoch 18/20\n",
            "63/63 [==============================] - 1s 18ms/step - loss: 2.8155 - accuracy: 0.3495 - val_loss: 2.7740 - val_accuracy: 0.3540\n",
            "Epoch 19/20\n",
            "63/63 [==============================] - 1s 18ms/step - loss: 2.7714 - accuracy: 0.3504 - val_loss: 2.7358 - val_accuracy: 0.3540\n",
            "Epoch 20/20\n",
            "63/63 [==============================] - 1s 18ms/step - loss: 2.7487 - accuracy: 0.3466 - val_loss: 2.6998 - val_accuracy: 0.3540\n"
          ],
          "name": "stdout"
        },
        {
          "output_type": "execute_result",
          "data": {
            "text/plain": [
              "<tensorflow.python.keras.callbacks.History at 0x7fd9e5674a50>"
            ]
          },
          "metadata": {
            "tags": []
          },
          "execution_count": 87
        }
      ]
    },
    {
      "cell_type": "code",
      "metadata": {
        "colab": {
          "base_uri": "https://localhost:8080/"
        },
        "id": "6oHKYr82EvaX",
        "outputId": "c40c5bd5-df22-4d98-eded-64c56dcc6b62"
      },
      "source": [
        "model = models.Sequential()\n",
        "model.add(layers.Dense(64, activation='relu', input_shape=(10000,)))\n",
        "model.add(layers.Dense(32, activation='relu'))\n",
        "model.add(layers.Dense(4, activation='relu'))\n",
        "model.add(layers.Dense(46, activation='softmax'))\n",
        "model.compile(optimizer='rmsprop',\n",
        "loss='categorical_crossentropy',\n",
        "metrics=['accuracy'])\n",
        "model.fit(partial_x_train,\n",
        "partial_y_train,\n",
        "epochs=20,\n",
        "batch_size=128,\n",
        "validation_data=(x_val, y_val))"
      ],
      "execution_count": null,
      "outputs": [
        {
          "output_type": "stream",
          "text": [
            "Epoch 1/20\n",
            "63/63 [==============================] - 2s 21ms/step - loss: 3.8016 - accuracy: 0.2249 - val_loss: 3.7421 - val_accuracy: 0.2220\n",
            "Epoch 2/20\n",
            "63/63 [==============================] - 1s 17ms/step - loss: 3.7224 - accuracy: 0.3302 - val_loss: 3.6684 - val_accuracy: 0.3530\n",
            "Epoch 3/20\n",
            "63/63 [==============================] - 1s 17ms/step - loss: 3.6500 - accuracy: 0.3523 - val_loss: 3.5966 - val_accuracy: 0.3530\n",
            "Epoch 4/20\n",
            "63/63 [==============================] - 1s 17ms/step - loss: 3.5788 - accuracy: 0.3624 - val_loss: 3.5270 - val_accuracy: 0.3530\n",
            "Epoch 5/20\n",
            "63/63 [==============================] - 1s 17ms/step - loss: 3.5107 - accuracy: 0.3506 - val_loss: 3.4595 - val_accuracy: 0.3530\n",
            "Epoch 6/20\n",
            "63/63 [==============================] - 1s 17ms/step - loss: 3.4461 - accuracy: 0.3517 - val_loss: 3.3940 - val_accuracy: 0.3530\n",
            "Epoch 7/20\n",
            "63/63 [==============================] - 1s 17ms/step - loss: 3.3791 - accuracy: 0.3479 - val_loss: 3.3310 - val_accuracy: 0.3530\n",
            "Epoch 8/20\n",
            "63/63 [==============================] - 1s 17ms/step - loss: 3.3197 - accuracy: 0.3482 - val_loss: 3.2699 - val_accuracy: 0.3530\n",
            "Epoch 9/20\n",
            "63/63 [==============================] - 1s 18ms/step - loss: 3.2553 - accuracy: 0.3546 - val_loss: 3.2109 - val_accuracy: 0.3530\n",
            "Epoch 10/20\n",
            "63/63 [==============================] - 1s 17ms/step - loss: 3.2026 - accuracy: 0.3401 - val_loss: 3.1545 - val_accuracy: 0.3530\n",
            "Epoch 11/20\n",
            "63/63 [==============================] - 1s 17ms/step - loss: 3.1398 - accuracy: 0.3532 - val_loss: 3.0996 - val_accuracy: 0.3530\n",
            "Epoch 12/20\n",
            "63/63 [==============================] - 1s 18ms/step - loss: 3.0859 - accuracy: 0.3487 - val_loss: 3.0470 - val_accuracy: 0.3530\n",
            "Epoch 13/20\n",
            "63/63 [==============================] - 1s 17ms/step - loss: 3.0323 - accuracy: 0.3443 - val_loss: 2.9963 - val_accuracy: 0.3530\n",
            "Epoch 14/20\n",
            "63/63 [==============================] - 1s 17ms/step - loss: 2.9782 - accuracy: 0.3628 - val_loss: 2.9478 - val_accuracy: 0.3530\n",
            "Epoch 15/20\n",
            "63/63 [==============================] - 1s 17ms/step - loss: 2.9349 - accuracy: 0.3522 - val_loss: 2.9013 - val_accuracy: 0.3530\n",
            "Epoch 16/20\n",
            "63/63 [==============================] - 1s 17ms/step - loss: 2.8890 - accuracy: 0.3517 - val_loss: 2.8566 - val_accuracy: 0.3530\n",
            "Epoch 17/20\n",
            "63/63 [==============================] - 1s 17ms/step - loss: 2.8557 - accuracy: 0.3478 - val_loss: 2.8143 - val_accuracy: 0.3530\n",
            "Epoch 18/20\n",
            "63/63 [==============================] - 1s 17ms/step - loss: 2.7990 - accuracy: 0.3583 - val_loss: 2.7742 - val_accuracy: 0.3530\n",
            "Epoch 19/20\n",
            "63/63 [==============================] - 1s 17ms/step - loss: 2.7620 - accuracy: 0.3556 - val_loss: 2.7360 - val_accuracy: 0.3530\n",
            "Epoch 20/20\n",
            "63/63 [==============================] - 1s 17ms/step - loss: 2.7304 - accuracy: 0.3524 - val_loss: 2.7001 - val_accuracy: 0.3530\n"
          ],
          "name": "stdout"
        },
        {
          "output_type": "execute_result",
          "data": {
            "text/plain": [
              "<tensorflow.python.keras.callbacks.History at 0x7fd9e4478ad0>"
            ]
          },
          "metadata": {
            "tags": []
          },
          "execution_count": 88
        }
      ]
    },
    {
      "cell_type": "markdown",
      "metadata": {
        "id": "8t18Wafq_KHO"
      },
      "source": [
        "## Wrapping up\n",
        "\n",
        "If you’re trying to classify data points among N classes, your network should end\n",
        "with a Dense layer of size N. In a single-label, multiclass classification problem, your network should end\n",
        "with a softmax activation so that it will output a probability distribution over the\n",
        "N output classes.\n",
        "\n",
        "1.Categorical crossentropy is almost always the loss function you should use for\n",
        "such problems. It minimizes the distance between the probability distributions\n",
        "output by the network and the true distribution of the targets.\n",
        "\n",
        "2.There are two ways to handle labels in multiclass classification:\n",
        "\n",
        "\n",
        "*   Encoding the labels via categorical encoding (also known as one-hot encoding and using categorical_crossentropy as a loss function\n",
        "*   Encoding the labels as integers and using the sparse_categorical_crossentropy\n",
        "loss function\n",
        "\n",
        "3.If you need to classify data into a large number of categories, you should avoid\n",
        "creating information bottlenecks in your network due to intermediate layers\n",
        "that are too small."
      ]
    }
  ]
}