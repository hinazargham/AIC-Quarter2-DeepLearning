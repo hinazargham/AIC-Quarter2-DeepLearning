{
  "nbformat": 4,
  "nbformat_minor": 0,
  "metadata": {
    "kernelspec": {
      "display_name": "Python 3",
      "language": "python",
      "name": "python3"
    },
    "language_info": {
      "codemirror_mode": {
        "name": "ipython",
        "version": 3
      },
      "file_extension": ".py",
      "mimetype": "text/x-python",
      "name": "python",
      "nbconvert_exporter": "python",
      "pygments_lexer": "ipython3",
      "version": "3.8.5"
    },
    "colab": {
      "name": "MNIST.ipynb",
      "provenance": [],
      "collapsed_sections": [
        "fNA2y4jXVRnK"
      ],
      "toc_visible": true,
      "include_colab_link": true
    },
    "accelerator": "TPU"
  },
  "cells": [
    {
      "cell_type": "markdown",
      "metadata": {
        "id": "view-in-github",
        "colab_type": "text"
      },
      "source": [
        "<a href=\"https://colab.research.google.com/github/hinazargham/DeepLearning_ColabNotebooks/blob/main/MNIST.ipynb\" target=\"_parent\"><img src=\"https://colab.research.google.com/assets/colab-badge.svg\" alt=\"Open In Colab\"/></a>"
      ]
    },
    {
      "cell_type": "markdown",
      "metadata": {
        "id": "fNA2y4jXVRnK"
      },
      "source": [
        "# Listing 2.1 Loading the MNIST dataset in Keras"
      ]
    },
    {
      "cell_type": "code",
      "metadata": {
        "id": "Hr4s8Z_2VRnX"
      },
      "source": [
        "from tensorflow.keras.datasets import mnist\n",
        "\n",
        "(train_images, train_labels), (test_images, test_labels) = mnist.load_data()"
      ],
      "execution_count": null,
      "outputs": []
    },
    {
      "cell_type": "code",
      "metadata": {
        "id": "tJ7Nnd3yVRnZ",
        "colab": {
          "base_uri": "https://localhost:8080/"
        },
        "outputId": "62933bcd-a6a9-4d39-95db-52e3117f53da"
      },
      "source": [
        "print(len(train_images))\n",
        "print(len(train_labels))"
      ],
      "execution_count": null,
      "outputs": [
        {
          "output_type": "stream",
          "text": [
            "60000\n",
            "60000\n"
          ],
          "name": "stdout"
        }
      ]
    },
    {
      "cell_type": "code",
      "metadata": {
        "id": "pTrdCp9XVRna",
        "colab": {
          "base_uri": "https://localhost:8080/"
        },
        "outputId": "779820a6-e131-419b-835f-2d095977e5e1"
      },
      "source": [
        "print(len(test_images))\n",
        "print(len(test_labels))"
      ],
      "execution_count": null,
      "outputs": [
        {
          "output_type": "stream",
          "text": [
            "10000\n",
            "10000\n"
          ],
          "name": "stdout"
        }
      ]
    },
    {
      "cell_type": "code",
      "metadata": {
        "id": "Rd3VwLTHVRnb",
        "colab": {
          "base_uri": "https://localhost:8080/"
        },
        "outputId": "474a6dbb-0c62-491c-aa41-dd2eb786f224"
      },
      "source": [
        "print(test_images.shape)\n",
        "train_images.shape"
      ],
      "execution_count": null,
      "outputs": [
        {
          "output_type": "stream",
          "text": [
            "(10000, 28, 28)\n"
          ],
          "name": "stdout"
        },
        {
          "output_type": "execute_result",
          "data": {
            "text/plain": [
              "(60000, 28, 28)"
            ]
          },
          "metadata": {
            "tags": []
          },
          "execution_count": 4
        }
      ]
    },
    {
      "cell_type": "code",
      "metadata": {
        "id": "eZiazVnJVRnc",
        "colab": {
          "base_uri": "https://localhost:8080/"
        },
        "outputId": "91f6ff70-5a37-432c-fb91-81b03398be28"
      },
      "source": [
        "import matplotlib.pyplot as plt\n",
        "\n",
        "digit = train_images[0]\n",
        "print(\"Class Label:\",train_labels[0])\n",
        "#digit.shape\n",
        "\n",
        "plt.imshow(digit, cmap=plt.cm.binary)\n",
        "plt.show()"
      ],
      "execution_count": null,
      "outputs": [
        {
          "output_type": "stream",
          "text": [
            "Class Label: 5\n"
          ],
          "name": "stdout"
        },
        {
          "output_type": "display_data",
          "data": {
            "image/png": "[encoded data removed]",
            "text/plain": [
              "<Figure size 432x288 with 1 Axes>"
            ]
          },
          "metadata": {
            "tags": [],
            "needs_background": "light"
          }
        }
      ]
    },
    {
      "cell_type": "code",
      "metadata": {
        "id": "reO57AgaVRnd",
        "colab": {
          "base_uri": "https://localhost:8080/"
        },
        "outputId": "239d6304-3b62-4bd9-a350-f987f36d2762"
      },
      "source": [
        "import matplotlib.pyplot as plt\n",
        "\n",
        "digit = train_images[0]\n",
        "print(\"Class Label:\",train_labels[5])\n",
        "#digit.shape\n",
        "\n",
        "plt.imshow(digit, cmap=plt.cm.binary)\n",
        "plt.show()"
      ],
      "execution_count": null,
      "outputs": [
        {
          "output_type": "stream",
          "text": [
            "Class Label: 2\n"
          ],
          "name": "stdout"
        },
        {
          "output_type": "display_data",
          "data": {
            "image/png": "[encoded data removed]",
            "text/plain": [
              "<Figure size 432x288 with 1 Axes>"
            ]
          },
          "metadata": {
            "tags": [],
            "needs_background": "light"
          }
        }
      ]
    },
    {
      "cell_type": "code",
      "metadata": {
        "id": "Nb4TTE_UVRnd",
        "colab": {
          "base_uri": "https://localhost:8080/"
        },
        "outputId": "84113f98-cdc3-4a34-c777-e4cd0968d108"
      },
      "source": [
        "digit = test_images[0]\n",
        "print(\"Class Label:\",test_labels[0])\n",
        "#digit.shape\n",
        "\n",
        "plt.imshow(digit, cmap=plt.cm.binary)\n",
        "plt.show()"
      ],
      "execution_count": null,
      "outputs": [
        {
          "output_type": "stream",
          "text": [
            "Class Label: 7\n"
          ],
          "name": "stdout"
        },
        {
          "output_type": "display_data",
          "data": {
            "image/png": "[encoded data removed]",
            "text/plain": [
              "<Figure size 432x288 with 1 Axes>"
            ]
          },
          "metadata": {
            "tags": [],
            "needs_background": "light"
          }
        }
      ]
    },
    {
      "cell_type": "code",
      "metadata": {
        "id": "0txvdyBSVRne",
        "colab": {
          "base_uri": "https://localhost:8080/"
        },
        "outputId": "b6edfa36-ed10-4616-fe8a-9e43040ce0a1"
      },
      "source": [
        "import numpy as np\n",
        "print(train_labels)\n",
        "print(np.unique(train_labels))"
      ],
      "execution_count": null,
      "outputs": [
        {
          "output_type": "stream",
          "text": [
            "[5 0 4 ... 5 6 8]\n",
            "[0 1 2 3 4 5 6 7 8 9]\n"
          ],
          "name": "stdout"
        }
      ]
    },
    {
      "cell_type": "code",
      "metadata": {
        "id": "6B-JfPWPVRnf",
        "colab": {
          "base_uri": "https://localhost:8080/"
        },
        "outputId": "ac07ca5a-3093-48b7-b224-3ec02cbc2ef4"
      },
      "source": [
        "import numpy as np\n",
        "print(test_labels)\n",
        "print(np.unique(test_labels))"
      ],
      "execution_count": null,
      "outputs": [
        {
          "output_type": "stream",
          "text": [
            "[7 2 1 ... 4 5 6]\n",
            "[0 1 2 3 4 5 6 7 8 9]\n"
          ],
          "name": "stdout"
        }
      ]
    },
    {
      "cell_type": "code",
      "metadata": {
        "id": "Apqi0OM7VRnf",
        "colab": {
          "base_uri": "https://localhost:8080/"
        },
        "outputId": "d1ac4273-f862-4af2-f553-5c5535d8721a"
      },
      "source": [
        "train_labels.shape"
      ],
      "execution_count": null,
      "outputs": [
        {
          "output_type": "execute_result",
          "data": {
            "text/plain": [
              "(60000,)"
            ]
          },
          "metadata": {
            "tags": []
          },
          "execution_count": 10
        }
      ]
    },
    {
      "cell_type": "markdown",
      "metadata": {
        "id": "DdR1Md79VRnf"
      },
      "source": [
        "# Listing 2.2 The network architecture"
      ]
    },
    {
      "cell_type": "code",
      "metadata": {
        "id": "0ReUjP-SVRni"
      },
      "source": [
        "from tensorflow.keras import models\n",
        "from tensorflow.keras import layers\n",
        "\n",
        "network = models.Sequential()\n",
        "\n",
        "network.add(layers.Dense(512, activation='relu', input_shape=(28*28, )))\n",
        "network.add(layers.Dense(10, activation='softmax'))"
      ],
      "execution_count": null,
      "outputs": []
    },
    {
      "cell_type": "markdown",
      "metadata": {
        "id": "Ve61HXYFVRni"
      },
      "source": [
        "28*28\n",
        "\n",
        "(28*28, )\n",
        "(784,)\n",
        "\n",
        "[[1,2,3],\n",
        "[4,6,5],\n",
        "[7,8,9]]\n",
        "\n",
        "[1,2,3,4,6,5,7,8,9]"
      ]
    },
    {
      "cell_type": "markdown",
      "metadata": {
        "id": "8UDL3OYTVRnj"
      },
      "source": [
        "# Listing 2.3 The compilation step"
      ]
    },
    {
      "cell_type": "code",
      "metadata": {
        "id": "WIH9mNQaVRnj"
      },
      "source": [
        "network.compile(optimizer='rmsprop',\n",
        "                loss='categorical_crossentropy',\n",
        "                metrics=['accuracy'])"
      ],
      "execution_count": null,
      "outputs": []
    },
    {
      "cell_type": "code",
      "metadata": {
        "id": "536jiVMjVRnk",
        "outputId": "cc70a0e5-70b6-4b82-cff8-98f205a7aa10"
      },
      "source": [
        "train_images.ndim"
      ],
      "execution_count": null,
      "outputs": [
        {
          "output_type": "execute_result",
          "data": {
            "text/plain": [
              "3"
            ]
          },
          "metadata": {
            "tags": []
          },
          "execution_count": 70
        }
      ]
    },
    {
      "cell_type": "code",
      "metadata": {
        "id": "HZWKNET6VRnk",
        "outputId": "60c386c7-8fed-44d6-fc55-ad487f957a8b"
      },
      "source": [
        "50/255"
      ],
      "execution_count": null,
      "outputs": [
        {
          "output_type": "execute_result",
          "data": {
            "text/plain": [
              "0.19607843137254902"
            ]
          },
          "metadata": {
            "tags": []
          },
          "execution_count": 71
        }
      ]
    },
    {
      "cell_type": "markdown",
      "metadata": {
        "id": "b67JERppVRnl"
      },
      "source": [
        "# Listing 2.4 Preparing the image data"
      ]
    },
    {
      "cell_type": "code",
      "metadata": {
        "id": "EGB6Th1zVRnl"
      },
      "source": [
        "train_images = train_images.reshape((60000, 28 * 28)) # change shape from 3d to 2d and  image from 2d to 1d\n",
        "train_images = train_images.astype('float32') / 255 #Normalization scale value is between o and 1\n",
        "\n",
        "\n",
        "test_images = test_images.reshape((10000, 28 * 28)) #phly 28*28 piexelpelana hoga\n",
        "test_images = test_images.astype('float32') / 255 #Normalization"
      ],
      "execution_count": null,
      "outputs": []
    },
    {
      "cell_type": "markdown",
      "metadata": {
        "id": "B6tlB_LkVRnl"
      },
      "source": [
        "# Listing 2.5 Preparing the labels"
      ]
    },
    {
      "cell_type": "code",
      "metadata": {
        "id": "M0JGoSmUVRnl",
        "outputId": "b3a4bb29-c236-4443-d70c-0cd673b9281a"
      },
      "source": [
        "train_labels[0]"
      ],
      "execution_count": null,
      "outputs": [
        {
          "output_type": "execute_result",
          "data": {
            "text/plain": [
              "5"
            ]
          },
          "metadata": {
            "tags": []
          },
          "execution_count": 73
        }
      ]
    },
    {
      "cell_type": "markdown",
      "metadata": {
        "id": "-8wBR9YOVRnm"
      },
      "source": [
        "# One-Hot-Encoding"
      ]
    },
    {
      "cell_type": "code",
      "metadata": {
        "id": "rdTnNRdqVRnm"
      },
      "source": [
        "from tensorflow.keras.utils import to_categorical\n",
        "\n",
        "train_labels = to_categorical(train_labels)\n",
        "test_labels = to_categorical(test_labels)"
      ],
      "execution_count": null,
      "outputs": []
    },
    {
      "cell_type": "code",
      "metadata": {
        "id": "OwtMeuWTVRnm",
        "outputId": "711ddaf7-ce93-48aa-b10f-a66cfc42b947"
      },
      "source": [
        "train_labels[0]"
      ],
      "execution_count": null,
      "outputs": [
        {
          "output_type": "execute_result",
          "data": {
            "text/plain": [
              "array([0., 0., 0., 0., 0., 1., 0., 0., 0., 0.], dtype=float32)"
            ]
          },
          "metadata": {
            "tags": []
          },
          "execution_count": 75
        }
      ]
    },
    {
      "cell_type": "code",
      "metadata": {
        "id": "INmNU9SQVRnn",
        "outputId": "0d30558d-7d71-4cb0-a125-95491b5683b2"
      },
      "source": [
        "train_labels[7]"
      ],
      "execution_count": null,
      "outputs": [
        {
          "output_type": "execute_result",
          "data": {
            "text/plain": [
              "array([0., 0., 0., 1., 0., 0., 0., 0., 0., 0.], dtype=float32)"
            ]
          },
          "metadata": {
            "tags": []
          },
          "execution_count": 76
        }
      ]
    },
    {
      "cell_type": "code",
      "metadata": {
        "id": "mSxHWoWXVRnn",
        "outputId": "843e761f-9e40-4cce-ac97-8e39dfced061"
      },
      "source": [
        "train_images.shape"
      ],
      "execution_count": null,
      "outputs": [
        {
          "output_type": "execute_result",
          "data": {
            "text/plain": [
              "(60000, 784)"
            ]
          },
          "metadata": {
            "tags": []
          },
          "execution_count": 77
        }
      ]
    },
    {
      "cell_type": "markdown",
      "metadata": {
        "id": "Z4z4DddFVRnn"
      },
      "source": [
        "## Now Train your Model"
      ]
    },
    {
      "cell_type": "code",
      "metadata": {
        "id": "nflXbl2WVRno",
        "outputId": "0ac46e44-a289-4431-9377-fa45af7c2edc"
      },
      "source": [
        "network.fit(train_images, train_labels, epochs=5, batch_size=128)"
      ],
      "execution_count": null,
      "outputs": [
        {
          "output_type": "stream",
          "text": [
            "Epoch 1/5\n",
            "469/469 [==============================] - 47s 23ms/step - loss: 0.4324 - accuracy: 0.8751\n",
            "Epoch 2/5\n",
            "469/469 [==============================] - 7s 14ms/step - loss: 0.1106 - accuracy: 0.9679\n",
            "Epoch 3/5\n",
            "469/469 [==============================] - 6s 13ms/step - loss: 0.0690 - accuracy: 0.9795\n",
            "Epoch 4/5\n",
            "469/469 [==============================] - 6s 14ms/step - loss: 0.0486 - accuracy: 0.9857\n",
            "Epoch 5/5\n",
            "469/469 [==============================] - 6s 13ms/step - loss: 0.0344 - accuracy: 0.9897\n"
          ],
          "name": "stdout"
        },
        {
          "output_type": "execute_result",
          "data": {
            "text/plain": [
              "<tensorflow.python.keras.callbacks.History at 0x1b9c01ad8b0>"
            ]
          },
          "metadata": {
            "tags": []
          },
          "execution_count": 78
        }
      ]
    },
    {
      "cell_type": "code",
      "metadata": {
        "id": "oGrUo2ffVRno",
        "outputId": "3e6569e9-9fb4-46b0-a66b-95b2cf516dd5"
      },
      "source": [
        "test_loss, test_acc = network.evaluate(test_images, test_labels)\n",
        "print('test_acc:', test_acc)"
      ],
      "execution_count": null,
      "outputs": [
        {
          "output_type": "stream",
          "text": [
            "313/313 [==============================] - 1s 3ms/step - loss: 0.0641 - accuracy: 0.9809\n",
            "test_acc: 0.98089998960495\n"
          ],
          "name": "stdout"
        }
      ]
    },
    {
      "cell_type": "code",
      "metadata": {
        "id": "ckc7XGsmVRno"
      },
      "source": [
        "# network.save(\"mnist.h5\")"
      ],
      "execution_count": null,
      "outputs": []
    }
  ]
}