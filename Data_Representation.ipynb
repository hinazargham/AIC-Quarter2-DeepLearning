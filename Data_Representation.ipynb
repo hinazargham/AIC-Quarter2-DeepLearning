{
  "nbformat": 4,
  "nbformat_minor": 0,
  "metadata": {
    "colab": {
      "name": "Data Representation.ipynb",
      "provenance": [],
      "collapsed_sections": [],
      "toc_visible": true,
      "authorship_tag": "ABX9TyNDZMHaiyf2pNrbBZ5MPURP"
    },
    "kernelspec": {
      "name": "python3",
      "display_name": "Python 3"
    },
    "language_info": {
      "name": "python"
    }
  },
  "cells": [
    {
      "cell_type": "markdown",
      "metadata": {
        "id": "Pk6NYWjRCfi7"
      },
      "source": [
        "# **Data representations for Neural Networks**\n",
        "- nd-Array = tensor\n",
        "- count number of opening brickets [[[ == number dimension, rank, axis"
      ]
    },
    {
      "cell_type": "markdown",
      "metadata": {
        "id": "SfQfFRUiIuZ4"
      },
      "source": [
        "**Scalars (0D tensors)**\n",
        "\n"
      ]
    },
    {
      "cell_type": "code",
      "metadata": {
        "id": "x-Nkql8QCIyi",
        "colab": {
          "base_uri": "https://localhost:8080/"
        },
        "outputId": "1418dc2c-3222-4a58-9e34-ce49666c7516"
      },
      "source": [
        "import numpy as np\n",
        "\n",
        "a = np.array(25)\n",
        "print(a)\n",
        "print(a.ndim)\n",
        "print(a.shape)\n",
        "\n",
        "# OD Tesnor, 0 Rank Tensor"
      ],
      "execution_count": 1,
      "outputs": [
        {
          "output_type": "stream",
          "text": [
            "25\n",
            "0\n",
            "()\n"
          ],
          "name": "stdout"
        }
      ]
    },
    {
      "cell_type": "markdown",
      "metadata": {
        "id": "VefVa8URO5TB"
      },
      "source": [
        "**Vectors (1D tensors)**"
      ]
    },
    {
      "cell_type": "code",
      "metadata": {
        "colab": {
          "base_uri": "https://localhost:8080/"
        },
        "id": "MQZkLWvyOdQz",
        "outputId": "28f0d065-21ba-4145-a884-c171ffa96937"
      },
      "source": [
        "a = np.array([1,3,4,9,6])\n",
        "print(a)\n",
        "print(\"Dimension\",a.ndim)\n",
        "print(\"Shape\",a.shape)\n",
        "\n",
        "# 1D Tensor, 1 Rank Tensor (tot dimensions), Vector, 1Axes Tensor \n",
        "# 5 rank vectors"
      ],
      "execution_count": null,
      "outputs": [
        {
          "output_type": "stream",
          "text": [
            "[1 3 4 9 6]\n",
            "Dimension 1\n",
            "Shape (5,)\n"
          ],
          "name": "stdout"
        }
      ]
    },
    {
      "cell_type": "markdown",
      "metadata": {
        "id": "dusbU_tTPBhV"
      },
      "source": [
        "**Matrices (2D tensors)**"
      ]
    },
    {
      "cell_type": "code",
      "metadata": {
        "colab": {
          "base_uri": "https://localhost:8080/"
        },
        "id": "8NkGmhlIvrrf",
        "outputId": "a9bb717d-69af-4952-cd84-fe037a2635d9"
      },
      "source": [
        "a=np.arange(15).reshape((3,5))\n",
        "a"
      ],
      "execution_count": 6,
      "outputs": [
        {
          "output_type": "execute_result",
          "data": {
            "text/plain": [
              "array([[ 0,  1,  2,  3,  4],\n",
              "       [ 5,  6,  7,  8,  9],\n",
              "       [10, 11, 12, 13, 14]])"
            ]
          },
          "metadata": {
            "tags": []
          },
          "execution_count": 6
        }
      ]
    },
    {
      "cell_type": "code",
      "metadata": {
        "colab": {
          "base_uri": "https://localhost:8080/"
        },
        "id": "WglGR2KeOdUq",
        "outputId": "40cafcf1-6960-4595-d365-bb618e67ef5b"
      },
      "source": [
        "a = np.array([[5, 78, 2, 34, 0],\n",
        "              [6, 79, 3, 35, 1],\n",
        "              [7, 80, 4, 36, 2]])\n",
        "\n",
        "print(a)\n",
        "print(\"Dimension\",a.ndim)\n",
        "print(\"Shape\",a.shape)"
      ],
      "execution_count": null,
      "outputs": [
        {
          "output_type": "stream",
          "text": [
            "[[ 5 78  2 34  0]\n",
            " [ 6 79  3 35  1]\n",
            " [ 7 80  4 36  2]]\n",
            "Dimension 2\n",
            "Shape (3, 5)\n"
          ],
          "name": "stdout"
        }
      ]
    },
    {
      "cell_type": "markdown",
      "metadata": {
        "id": "yZ7Qwu7_PFwj"
      },
      "source": [
        "**3D tensors and higher-dimensional tensors**"
      ]
    },
    {
      "cell_type": "code",
      "metadata": {
        "colab": {
          "base_uri": "https://localhost:8080/"
        },
        "id": "3V92fYeFOdZh",
        "outputId": "b10f179a-c5f8-4353-e5dd-08151c8faf7e"
      },
      "source": [
        "a = np.arange(1,46).reshape((3,3,5))\n",
        "\n",
        "print(a)\n",
        "print(\"Dimension\",a.ndim)\n",
        "print(\"Shape\",a.shape)"
      ],
      "execution_count": null,
      "outputs": [
        {
          "output_type": "stream",
          "text": [
            "[[[ 1  2  3  4  5]\n",
            "  [ 6  7  8  9 10]\n",
            "  [11 12 13 14 15]]\n",
            "\n",
            " [[16 17 18 19 20]\n",
            "  [21 22 23 24 25]\n",
            "  [26 27 28 29 30]]\n",
            "\n",
            " [[31 32 33 34 35]\n",
            "  [36 37 38 39 40]\n",
            "  [41 42 43 44 45]]]\n",
            "Dimension 3\n",
            "Shape (3, 3, 5)\n"
          ],
          "name": "stdout"
        }
      ]
    },
    {
      "cell_type": "code",
      "metadata": {
        "colab": {
          "base_uri": "https://localhost:8080/"
        },
        "id": "SI3LQ_8bwtYq",
        "outputId": "28fd1b63-cd99-464b-fcf1-d068805fc0a4"
      },
      "source": [
        "a = np.zeros((2,2,2,2))\n",
        "\n",
        "print(a)\n",
        "print(\"Dimension\",a.ndim)\n",
        "print(\"Shape\",a.shape)"
      ],
      "execution_count": 7,
      "outputs": [
        {
          "output_type": "stream",
          "text": [
            "[[[[0. 0.]\n",
            "   [0. 0.]]\n",
            "\n",
            "  [[0. 0.]\n",
            "   [0. 0.]]]\n",
            "\n",
            "\n",
            " [[[0. 0.]\n",
            "   [0. 0.]]\n",
            "\n",
            "  [[0. 0.]\n",
            "   [0. 0.]]]]\n",
            "Dimension 4\n",
            "Shape (2, 2, 2, 2)\n"
          ],
          "name": "stdout"
        }
      ]
    },
    {
      "cell_type": "code",
      "metadata": {
        "colab": {
          "base_uri": "https://localhost:8080/"
        },
        "id": "5xoW0gcmOtES",
        "outputId": "ca84c9c8-bdf1-4886-cbb5-71680355a890"
      },
      "source": [
        "a = np.ones((2,2,2,2,2))\n",
        "\n",
        "print(a)\n",
        "print(\"Dimension\",a.ndim)\n",
        "print(\"Shape\",a.shape)"
      ],
      "execution_count": null,
      "outputs": [
        {
          "output_type": "stream",
          "text": [
            "[[[[[1. 1.]\n",
            "    [1. 1.]]\n",
            "\n",
            "   [[1. 1.]\n",
            "    [1. 1.]]]\n",
            "\n",
            "\n",
            "  [[[1. 1.]\n",
            "    [1. 1.]]\n",
            "\n",
            "   [[1. 1.]\n",
            "    [1. 1.]]]]\n",
            "\n",
            "\n",
            "\n",
            " [[[[1. 1.]\n",
            "    [1. 1.]]\n",
            "\n",
            "   [[1. 1.]\n",
            "    [1. 1.]]]\n",
            "\n",
            "\n",
            "  [[[1. 1.]\n",
            "    [1. 1.]]\n",
            "\n",
            "   [[1. 1.]\n",
            "    [1. 1.]]]]]\n",
            "Dimension 5\n",
            "Shape (2, 2, 2, 2, 2)\n"
          ],
          "name": "stdout"
        }
      ]
    },
    {
      "cell_type": "markdown",
      "metadata": {
        "id": "fbZD2WypcQSy"
      },
      "source": [
        "# Example"
      ]
    },
    {
      "cell_type": "code",
      "metadata": {
        "id": "esJkpROHOtRz",
        "colab": {
          "base_uri": "https://localhost:8080/",
          "height": 119
        },
        "outputId": "f0451465-d3d4-4ecf-ac61-083a861c60aa"
      },
      "source": [
        "# hundred students and 3 marks of each student\n",
        "a= [100, 3]\n",
        "display(np.shape(a))\n",
        "display(np.ndim(a))\n",
        "\n",
        "\n",
        "# hundred students and 3 marks of each student for 4 weeks\n",
        "b= [100, 4, 3]\n",
        "display(np.shape(b))\n",
        "display(np.ndim(b))\n",
        "\n",
        "# hundred students for 4 weeks in 2 semesters and 3 marks of each student\n",
        "x= [100, 4, 2, 3]\n",
        "display(np.shape(x))\n",
        "display(np.ndim(x))"
      ],
      "execution_count": null,
      "outputs": [
        {
          "output_type": "display_data",
          "data": {
            "text/plain": [
              "(2,)"
            ]
          },
          "metadata": {
            "tags": []
          }
        },
        {
          "output_type": "display_data",
          "data": {
            "text/plain": [
              "1"
            ]
          },
          "metadata": {
            "tags": []
          }
        },
        {
          "output_type": "display_data",
          "data": {
            "text/plain": [
              "(3,)"
            ]
          },
          "metadata": {
            "tags": []
          }
        },
        {
          "output_type": "display_data",
          "data": {
            "text/plain": [
              "1"
            ]
          },
          "metadata": {
            "tags": []
          }
        },
        {
          "output_type": "display_data",
          "data": {
            "text/plain": [
              "(4,)"
            ]
          },
          "metadata": {
            "tags": []
          }
        },
        {
          "output_type": "display_data",
          "data": {
            "text/plain": [
              "1"
            ]
          },
          "metadata": {
            "tags": []
          }
        }
      ]
    },
    {
      "cell_type": "markdown",
      "metadata": {
        "id": "06isrFo54oM1"
      },
      "source": [
        "## Broadcasting"
      ]
    },
    {
      "cell_type": "code",
      "metadata": {
        "colab": {
          "base_uri": "https://localhost:8080/",
          "height": 70
        },
        "id": "ec_TDDTy36tL",
        "outputId": "cfb87a0d-8b03-47f2-83ee-893438f98ffe"
      },
      "source": [
        "x= np.random.random((64,3,32,10))\n",
        "y=np.random.random((32,10))\n",
        "\n",
        "display(np.shape(x))\n",
        "display(np.shape(y))\n",
        "\n",
        "z=np.maximum(x,y)\n",
        "display(np.shape(z))\n"
      ],
      "execution_count": 8,
      "outputs": [
        {
          "output_type": "display_data",
          "data": {
            "text/plain": [
              "(64, 3, 32, 10)"
            ]
          },
          "metadata": {
            "tags": []
          }
        },
        {
          "output_type": "display_data",
          "data": {
            "text/plain": [
              "(32, 10)"
            ]
          },
          "metadata": {
            "tags": []
          }
        },
        {
          "output_type": "display_data",
          "data": {
            "text/plain": [
              "(64, 3, 32, 10)"
            ]
          },
          "metadata": {
            "tags": []
          }
        }
      ]
    },
    {
      "cell_type": "markdown",
      "metadata": {
        "id": "e4AM2EuC5OVN"
      },
      "source": [
        "## Tensor Reshaping"
      ]
    },
    {
      "cell_type": "code",
      "metadata": {
        "colab": {
          "base_uri": "https://localhost:8080/"
        },
        "id": "6psmRUwN5RnL",
        "outputId": "2545da35-f2fb-4ddd-d7b9-45d308f02892"
      },
      "source": [
        "x = np.zeros((300,20))\n",
        "x=np.transpose(x)\n",
        "print(x.shape)"
      ],
      "execution_count": null,
      "outputs": [
        {
          "output_type": "stream",
          "text": [
            "(20, 300)\n"
          ],
          "name": "stdout"
        }
      ]
    }
  ]
}